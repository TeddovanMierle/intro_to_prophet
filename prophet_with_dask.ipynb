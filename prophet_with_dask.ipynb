{
 "cells": [
  {
   "cell_type": "markdown",
   "metadata": {},
   "source": [
    "# [Cross Validating Prophet at Scale](https://medium.com/dropout-analytics/cross-validating-prophet-at-scale-72b1a21b6433?source=friends_link&sk=e7b1201491dd528dfa3ad3b9a324518c)\n",
    "## Parallelizing Time Series Cross-Validation and Hyperparameter Optimization with Dask"
   ]
  },
  {
   "cell_type": "code",
   "execution_count": null,
   "metadata": {},
   "outputs": [],
   "source": [
    "import pandas as pd\n",
    "\n",
    "df = pd.read_csv('https://raw.githubusercontent.com/gumdropsteve/datasets/master/yellow_cab_ymd_averages.csv', usecols=['ds', 'avg_trip_distance'])\n",
    "\n",
    "df['ds'] = pd.to_datetime(df['ds'])\n",
    "df['avg_trip_distance'] = df['avg_trip_distance'].astype('float')\n",
    "\n",
    "# remove erroneous averages\n",
    "df = df.loc[df['avg_trip_distance'] < 5]\n",
    "\n",
    "# relabel average trip distance as y\n",
    "df = df.rename(columns={'avg_trip_distance' : 'y'})\n",
    "\n",
    "df.plot(x='ds', y='y', figsize=(16, 4), title='Average Trip Distance (Miles) - NYC Yellow Cab', )"
   ]
  },
  {
   "cell_type": "code",
   "execution_count": null,
   "metadata": {},
   "outputs": [],
   "source": [
    "from fbprophet import Prophet\n",
    "\n",
    "m = Prophet(daily_seasonality=False)\n",
    "\n",
    "m.add_country_holidays(country_name='US')\n",
    "\n",
    "m.fit(df)"
   ]
  },
  {
   "cell_type": "code",
   "execution_count": null,
   "metadata": {},
   "outputs": [],
   "source": [
    "future = m.make_future_dataframe(periods=365*4)\n",
    "\n",
    "forecast = m.predict(future)\n",
    "\n",
    "fig = m.plot(forecast)"
   ]
  },
  {
   "cell_type": "code",
   "execution_count": null,
   "metadata": {},
   "outputs": [],
   "source": [
    "forecast"
   ]
  },
  {
   "cell_type": "code",
   "execution_count": null,
   "metadata": {},
   "outputs": [],
   "source": [
    "m.plot_components(forecast)"
   ]
  },
  {
   "cell_type": "markdown",
   "metadata": {},
   "source": [
    "## Distributing Cross Validation with Dask"
   ]
  },
  {
   "cell_type": "code",
   "execution_count": null,
   "metadata": {},
   "outputs": [],
   "source": [
    "from distributed import Client\n",
    "from fbprophet.diagnostics import cross_validation\n",
    "\n",
    "client = Client()\n",
    "client"
   ]
  },
  {
   "cell_type": "markdown",
   "metadata": {},
   "source": [
    "**With Dask**"
   ]
  },
  {
   "cell_type": "code",
   "execution_count": null,
   "metadata": {},
   "outputs": [],
   "source": [
    "%%time\n",
    "df_cv = cross_validation(m, \n",
    "                         horizon=\"365 days\",\n",
    "                         period=\"182.5 days\", \n",
    "                         initial=\"730 days\", \n",
    "                         parallel=\"dask\"\n",
    "                        )"
   ]
  },
  {
   "cell_type": "markdown",
   "metadata": {},
   "source": [
    "**Default (None)**"
   ]
  },
  {
   "cell_type": "code",
   "execution_count": null,
   "metadata": {},
   "outputs": [],
   "source": [
    "%%time\n",
    "df_cv = cross_validation(m, \n",
    "                         horizon=\"365 days\",\n",
    "                         period=\"182.5 days\", \n",
    "                         initial=\"730 days\", \n",
    "                         parallel=None\n",
    "                        )"
   ]
  },
  {
   "cell_type": "code",
   "execution_count": null,
   "metadata": {},
   "outputs": [],
   "source": [
    "from fbprophet.diagnostics import performance_metrics\n",
    "\n",
    "performance_metrics(df_cv, rolling_window=1)"
   ]
  },
  {
   "cell_type": "markdown",
   "metadata": {},
   "source": [
    "## Hyperparameter Optimization with Dask (Applying Parallelized Cross-Validation)"
   ]
  },
  {
   "cell_type": "code",
   "execution_count": null,
   "metadata": {},
   "outputs": [],
   "source": [
    "%%time\n",
    "import itertools\n",
    "\n",
    "param_grid = {'changepoint_prior_scale': [0.001, 0.01, 0.1, 0.5],\n",
    "              'seasonality_prior_scale': [0.01, 0.1, 1.0, 10.0],\n",
    "              'seasonality_mode': ['additive', 'multiplicative']}\n",
    "\n",
    "# generate all combinations of parameters\n",
    "all_params = [dict(zip(param_grid.keys(), v)) for v in itertools.product(*param_grid.values())]\n",
    "rmses = []  # store the RMSEs for each params here\n",
    "\n",
    "# Use cross validation to evaluate all parameters\n",
    "for i in range(len(all_params)):\n",
    "    print(f'cross validating param set {i} / {len(all_params) - 1}')\n",
    "    \n",
    "    # create & fit model with given params combo\n",
    "    m = Prophet(daily_seasonality=False, **all_params[i]).fit(df)\n",
    "    \n",
    "    # cross validate the model \n",
    "    df_cv = cross_validation(m, \n",
    "                             horizon=\"365 days\",\n",
    "                             period=\"182.5 days\", \n",
    "                             initial=\"730 days\", \n",
    "                             parallel=\"dask\")\n",
    "    \n",
    "    df_p = performance_metrics(df_cv, rolling_window=1)\n",
    "    # pull rmse and add it to the list\n",
    "    rmses.append(df_p['rmse'].values[0])"
   ]
  },
  {
   "cell_type": "code",
   "execution_count": null,
   "metadata": {},
   "outputs": [],
   "source": [
    "# make a dataframe of all the param combos\n",
    "tuning_results = pd.DataFrame(all_params)\n",
    "\n",
    "# add a column for each's RMSE\n",
    "tuning_results['rmse'] = rmses\n",
    "\n",
    "tuning_results"
   ]
  },
  {
   "cell_type": "code",
   "execution_count": null,
   "metadata": {},
   "outputs": [],
   "source": [
    "import numpy as np\n",
    "\n",
    "# pull the highest scoring param combo\n",
    "best_params = all_params[np.argmin(rmses)]\n",
    "\n",
    "best_params"
   ]
  },
  {
   "cell_type": "markdown",
   "metadata": {},
   "source": [
    "### Try the Best Model"
   ]
  },
  {
   "cell_type": "code",
   "execution_count": null,
   "metadata": {},
   "outputs": [],
   "source": [
    "m = Prophet(daily_seasonality=False, changepoint_prior_scale=0.001, seasonality_prior_scale=0.1, seasonality_mode='multiplicative')\n",
    "\n",
    "m.add_country_holidays(country_name='US')\n",
    "\n",
    "m.fit(df)"
   ]
  },
  {
   "cell_type": "code",
   "execution_count": null,
   "metadata": {},
   "outputs": [],
   "source": [
    "future = m.make_future_dataframe(periods=365*4)\n",
    "\n",
    "forecast = m.predict(future)\n",
    "\n",
    "fig = m.plot(forecast)"
   ]
  },
  {
   "cell_type": "code",
   "execution_count": null,
   "metadata": {},
   "outputs": [],
   "source": [
    "forecast"
   ]
  },
  {
   "cell_type": "markdown",
   "metadata": {},
   "source": [
    "# Fin\n",
    "**[Back to GitHub](https://github.com/gumdropsteve/intro_to_prophet)** | **[Back to Medium](https://medium.com/dropout-analytics/cross-validating-prophet-at-scale-72b1a21b6433?source=friends_link&sk=e7b1201491dd528dfa3ad3b9a324518c)**"
   ]
  }
 ],
 "metadata": {
  "kernelspec": {
   "display_name": "Python 3",
   "language": "python",
   "name": "python3"
  },
  "language_info": {
   "codemirror_mode": {
    "name": "ipython",
    "version": 3
   },
   "file_extension": ".py",
   "mimetype": "text/x-python",
   "name": "python",
   "nbconvert_exporter": "python",
   "pygments_lexer": "ipython3",
   "version": "3.7.9"
  }
 },
 "nbformat": 4,
 "nbformat_minor": 4
}
